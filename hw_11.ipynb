{
 "cells": [
  {
   "cell_type": "markdown",
   "id": "728bac34",
   "metadata": {},
   "source": [
    "y = 5*|x|^3 +3*x^2 - 6|x| + 8\n",
    "\n",
    "1. Определить корни\n",
    "\n",
    "2. Найти интервалы, на которых функция возрастает\n",
    "\n",
    "3. Найти интервалы, на которых функция убывает\n",
    "\n",
    "4. Построить график\n",
    "\n",
    "5. Вычислить вершину\n",
    "\n",
    "6. Определить промежутки, на котором f > 0\n",
    "\n",
    "7. Определить промежутки, на котором f < 0"
   ]
  },
  {
   "cell_type": "code",
   "execution_count": 1,
   "id": "d4ad399e",
   "metadata": {},
   "outputs": [],
   "source": [
    "from sympy import Symbol, oo\n",
    "from sympy.plotting import plot\n",
    "from sympy.solvers import solve"
   ]
  },
  {
   "cell_type": "code",
   "execution_count": 2,
   "id": "200b7ccf",
   "metadata": {},
   "outputs": [
    {
     "data": {
      "text/latex": [
       "$\\displaystyle 3 x^{2} + 5 \\left|{x}\\right|^{3} - 6 \\left|{x}\\right| + 8$"
      ],
      "text/plain": [
       "3*x**2 + 5*Abs(x)**3 - 6*Abs(x) + 8"
      ]
     },
     "execution_count": 2,
     "metadata": {},
     "output_type": "execute_result"
    }
   ],
   "source": [
    "x = Symbol('x')\n",
    "f = 5*abs(x)**3 + 3*x**2-6*abs(x)+8\n",
    "f"
   ]
  },
  {
   "cell_type": "markdown",
   "id": "06d90f89",
   "metadata": {},
   "source": [
    "### 1. Находим корни уравнения f = 0"
   ]
  },
  {
   "cell_type": "markdown",
   "id": "190c9cda",
   "metadata": {},
   "source": [
    "Так как функция четная, то достаточно рассмотреть случай ```x > 0```"
   ]
  },
  {
   "cell_type": "code",
   "execution_count": 3,
   "id": "06327bd7",
   "metadata": {},
   "outputs": [
    {
     "data": {
      "text/latex": [
       "$\\displaystyle 5 x^{3} + 3 x^{2} - 6 x + 8$"
      ],
      "text/plain": [
       "5*x**3 + 3*x**2 - 6*x + 8"
      ]
     },
     "execution_count": 3,
     "metadata": {},
     "output_type": "execute_result"
    }
   ],
   "source": [
    "f_pos = 5*x**3 + 3*x**2-6*x+8\n",
    "f_pos"
   ]
  },
  {
   "cell_type": "code",
   "execution_count": 4,
   "id": "da55684a",
   "metadata": {},
   "outputs": [
    {
     "name": "stdout",
     "output_type": "stream",
     "text": [
      "root_0 = 0.589780124121135 + 0.742467462836176*I\n",
      "root_1 = 0.589780124121135 - 0.742467462836176*I\n",
      "root_2 = -1.77956024824227\n"
     ]
    }
   ],
   "source": [
    "roots = solve(f_pos, x)\n",
    "for i, val in enumerate(roots):\n",
    "    print(f\"root_{i} = {val.evalf()}\")"
   ]
  },
  {
   "cell_type": "markdown",
   "id": "bfc240d5",
   "metadata": {},
   "source": [
    "Так как единственный вещественный корень ```root_2 < 0```, то функция ```f``` не пересекается с осью  ```x```\\. То есть вещественных корней не имеет, только комплексные"
   ]
  },
  {
   "cell_type": "markdown",
   "id": "1a1d7c9f",
   "metadata": {},
   "source": [
    "### 2. 3. Найти интервалы, на которых функция возрастает, убывает"
   ]
  },
  {
   "cell_type": "markdown",
   "id": "4bd2a392",
   "metadata": {},
   "source": [
    "Находим точки экстремума (точки, в которых первая производная равна нулю)"
   ]
  },
  {
   "cell_type": "code",
   "execution_count": 5,
   "id": "77df755a",
   "metadata": {},
   "outputs": [
    {
     "name": "stdout",
     "output_type": "stream",
     "text": [
      "0.463324958071080\n",
      "-0.863324958071080\n"
     ]
    }
   ],
   "source": [
    "first_deriv = f_pos.diff()\n",
    "#x_ -точка экстремума\n",
    "x_ = solve(first_deriv, x)\n",
    "for val in x_:\n",
    "    print(val.evalf())"
   ]
  },
  {
   "cell_type": "markdown",
   "id": "34498026",
   "metadata": {},
   "source": [
    "Выбираем ```x_``` > 0. И проверим максимум это или минимум, вычисляя вторую производную в точке ```x_```"
   ]
  },
  {
   "cell_type": "code",
   "execution_count": 6,
   "id": "79f37f4d",
   "metadata": {},
   "outputs": [
    {
     "data": {
      "text/latex": [
       "$\\displaystyle 19.8997487421324$"
      ],
      "text/plain": [
       "19.8997487421324"
      ]
     },
     "execution_count": 6,
     "metadata": {},
     "output_type": "execute_result"
    }
   ],
   "source": [
    "x_extr = x_[0] if x_[0] > 0 else  x_[1]\n",
    "second_deriv = first_deriv.diff()\n",
    "second_deriv.subs(x, x_extr).evalf()"
   ]
  },
  {
   "cell_type": "markdown",
   "id": "0d623814",
   "metadata": {},
   "source": [
    "Вторая производная в точке ```x_extr``` > 0 - значит это минимум. \n",
    "Так как ф-я четная, \n",
    "то вторая точка минимума ```-x_extr```"
   ]
  },
  {
   "cell_type": "code",
   "execution_count": 7,
   "id": "82861936",
   "metadata": {},
   "outputs": [
    {
     "name": "stdout",
     "output_type": "stream",
     "text": [
      "Получаем, что при x > 0 функция возрастает в интервале (0.463, oo)\n",
      "И убывает в интервале (0, 0.463)\n",
      "А в силу четности функция возрастает в интервале (-0.463, 0) U (0.463, oo)\n",
      "И убывает в интервале (-oo, -0.463) U ((0, 0.463)\n"
     ]
    }
   ],
   "source": [
    "print(f\"Получаем, что при x > 0 функция возрастает в интервале ({round(x_extr.evalf(), 3)}, {+oo})\\nИ убывает в интервале {0, round(x_extr.evalf(), 3)}\")\n",
    "print(f\"А в силу четности функция возрастает в интервале ({-round(x_extr.evalf(), 3)}, 0) U ({round(x_extr.evalf(), 3)}, {+oo})\\nИ убывает в интервале ({-oo}, -{round(x_extr.evalf(), 3)}) U ({0, round(x_extr.evalf(), 3)}\") "
   ]
  },
  {
   "cell_type": "markdown",
   "id": "00798a48",
   "metadata": {},
   "source": [
    "### 4. Построить график"
   ]
  },
  {
   "cell_type": "code",
   "execution_count": 8,
   "id": "28dcdfcf",
   "metadata": {},
   "outputs": [
    {
     "data": {
      "image/png": "[encoded data removed]",
      "text/plain": [
       "<Figure size 432x288 with 1 Axes>"
      ]
     },
     "metadata": {
      "needs_background": "light"
     },
     "output_type": "display_data"
    }
   ],
   "source": [
    "plt = plot(f, (x, -1.2, 1.2))"
   ]
  },
  {
   "cell_type": "markdown",
   "id": "28922cc4",
   "metadata": {},
   "source": [
    "### 5. Вычислить вершину"
   ]
  },
  {
   "cell_type": "markdown",
   "id": "a761cb2f",
   "metadata": {},
   "source": [
    "Вершиной является точка минимума ```x_extr``` и ```-x_extr```"
   ]
  },
  {
   "cell_type": "code",
   "execution_count": 9,
   "id": "6a0f2f5b",
   "metadata": {},
   "outputs": [
    {
     "name": "stdout",
     "output_type": "stream",
     "text": [
      "Значение в точке минимума: 6.361\n"
     ]
    }
   ],
   "source": [
    "print(f\"Значение в точке минимума: {round((f.subs(x, x_extr)).evalf(), 3)}\")"
   ]
  },
  {
   "cell_type": "markdown",
   "id": "3418041a",
   "metadata": {},
   "source": [
    "### 6. 7. Определить промежутки, на которых f > 0 и  f < 0"
   ]
  },
  {
   "cell_type": "markdown",
   "id": "ac67672a",
   "metadata": {},
   "source": [
    "#### Так как вещественных корней нет и вершиина - это точка минимума, то ```f > 0``` при любых ```x```"
   ]
  }
 ],
 "metadata": {
  "kernelspec": {
   "display_name": "Python 3 (ipykernel)",
   "language": "python",
   "name": "python3"
  },
  "language_info": {
   "codemirror_mode": {
    "name": "ipython",
    "version": 3
   },
   "file_extension": ".py",
   "mimetype": "text/x-python",
   "name": "python",
   "nbconvert_exporter": "python",
   "pygments_lexer": "ipython3",
   "version": "3.9.12"
  }
 },
 "nbformat": 4,
 "nbformat_minor": 5
}
